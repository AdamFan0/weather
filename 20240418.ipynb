{
 "cells": [
  {
   "cell_type": "markdown",
   "metadata": {},
   "source": [
    "Pandas 資料分析重要的工具之一\n",
    "\n",
    "課本的第八章\n",
    "\n",
    "第七章Numpy 通常會用在矩陣計算、深度學習ANN\n",
    "\n",
    "Pandas 類似於表格、Excel"
   ]
  },
  {
   "cell_type": "code",
   "execution_count": 2,
   "metadata": {},
   "outputs": [
    {
     "name": "stdout",
     "output_type": "stream",
     "text": [
      "0    12\n",
      "1    29\n",
      "2    72\n",
      "3     4\n",
      "4     8\n",
      "5    10\n",
      "dtype: int64\n"
     ]
    },
    {
     "data": {
      "text/plain": [
       "12"
      ]
     },
     "execution_count": 2,
     "metadata": {},
     "output_type": "execute_result"
    }
   ],
   "source": [
    "# 微積分sequence：一維資料\n",
    "# series 物件是一維資料\n",
    "\n",
    "# 給pasdas別名pd\n",
    "import pandas as pd\n",
    "\n",
    "s = pd.Series([12, 29, 72, 4, 8, 10])\n",
    "print(s)\n",
    "\n",
    "s[0]"
   ]
  },
  {
   "cell_type": "code",
   "execution_count": 16,
   "metadata": {},
   "outputs": [
    {
     "name": "stdout",
     "output_type": "stream",
     "text": [
      "蘋果    15\n",
      "橘子    33\n",
      "水梨    45\n",
      "櫻桃    55\n",
      "dtype: int64\n",
      "Index(['蘋果', '橘子', '水梨', '櫻桃'], dtype='object')\n",
      "[15 33 45 55]\n"
     ]
    }
   ],
   "source": [
    "# Series物件自訂索引\n",
    "\n",
    "# 一個一維資料是索引\n",
    "fruits = ['蘋果', '橘子', '水梨', '櫻桃']\n",
    "\n",
    "# 對應索引的一維資料\n",
    "quantities = [15, 33, 45, 55]\n",
    "\n",
    "s = pd.Series(quantities, index=fruits)\n",
    "print(s)\n",
    "print(s.index)\n",
    "print(s.values)\n"
   ]
  },
  {
   "cell_type": "code",
   "execution_count": 8,
   "metadata": {},
   "outputs": [
    {
     "name": "stdout",
     "output_type": "stream",
     "text": [
      "蘋果    26\n",
      "橘子    49\n",
      "水梨    66\n",
      "櫻桃    87\n",
      "dtype: int64\n",
      "總和為 228\n"
     ]
    }
   ],
   "source": [
    "# 相同索引Series物件相加\n",
    "\n",
    "# 一個一維資料是索引\n",
    "fruits = ['蘋果', '橘子', '水梨', '櫻桃']\n",
    "\n",
    "# 對應索引的一維資料\n",
    "quantities = [15, 33, 45, 55]\n",
    "s = pd.Series(quantities, index=fruits)\n",
    "\n",
    "p = pd.Series([11, 16, 21, 32], index=fruits)\n",
    "\n",
    "print(s+p)\n",
    "\n",
    "s+p\n",
    "\n",
    "print('總和為', sum(s+p))"
   ]
  },
  {
   "cell_type": "code",
   "execution_count": 15,
   "metadata": {},
   "outputs": [
    {
     "name": "stdout",
     "output_type": "stream",
     "text": [
      "橘子有33顆\n",
      "橘子    33\n",
      "dtype: int64\n",
      "橘子    33\n",
      "水梨    45\n",
      "櫻桃    55\n",
      "dtype: int64\n"
     ]
    }
   ],
   "source": [
    "# 取出自訂索引Series物件元素\n",
    "# 一個一維資料是索引\n",
    "fruits = ['蘋果', '橘子', '水梨', '櫻桃']\n",
    "\n",
    "# 對應索引的一維資料\n",
    "quantities = [15, 33, 45, 55]\n",
    "\n",
    "s = pd.Series(quantities, index=fruits)\n",
    "\n",
    "print(f'橘子有{s[\"橘子\"]}顆')\n",
    "\n",
    "# 使用索引取出多個資料：機器學習特徵選取有關\n",
    "print(s[['橘子']]) # print(s['橘子']) 不一樣\n",
    "print(s[['橘子', '水梨', '櫻桃']])"
   ]
  },
  {
   "cell_type": "code",
   "execution_count": null,
   "metadata": {},
   "outputs": [],
   "source": [
    "# Series 物件的各種運算\n",
    "\n",
    "print((s+2)*3)\n",
    "\n",
    "# Numpy.apply()\n",
    "# 使用三角函數時，數字看成是弧度\n",
    "import numpy as np\n",
    "print(s.apply(np.sin))"
   ]
  },
  {
   "cell_type": "code",
   "execution_count": 37,
   "metadata": {},
   "outputs": [
    {
     "name": "stdout",
     "output_type": "stream",
     "text": [
      "  name  population city\n",
      "0  中正區      159598  台北市\n",
      "1  北屯區      275207  台中市\n",
      "2  鳳山區      359125  高雄市\n"
     ]
    },
    {
     "data": {
      "text/html": [
       "<div>\n",
       "<style scoped>\n",
       "    .dataframe tbody tr th:only-of-type {\n",
       "        vertical-align: middle;\n",
       "    }\n",
       "\n",
       "    .dataframe tbody tr th {\n",
       "        vertical-align: top;\n",
       "    }\n",
       "\n",
       "    .dataframe thead th {\n",
       "        text-align: right;\n",
       "    }\n",
       "</style>\n",
       "<table border=\"1\" class=\"dataframe\">\n",
       "  <thead>\n",
       "    <tr style=\"text-align: right;\">\n",
       "      <th></th>\n",
       "      <th>name</th>\n",
       "      <th>population</th>\n",
       "    </tr>\n",
       "  </thead>\n",
       "  <tbody>\n",
       "    <tr>\n",
       "      <th>台北市</th>\n",
       "      <td>中正區</td>\n",
       "      <td>159598</td>\n",
       "    </tr>\n",
       "    <tr>\n",
       "      <th>台中市</th>\n",
       "      <td>北屯區</td>\n",
       "      <td>275207</td>\n",
       "    </tr>\n",
       "    <tr>\n",
       "      <th>高雄市</th>\n",
       "      <td>鳳山區</td>\n",
       "      <td>359125</td>\n",
       "    </tr>\n",
       "  </tbody>\n",
       "</table>\n",
       "</div>"
      ],
      "text/plain": [
       "    name  population\n",
       "台北市  中正區      159598\n",
       "台中市  北屯區      275207\n",
       "高雄市  鳳山區      359125"
      ]
     },
     "execution_count": 37,
     "metadata": {},
     "output_type": "execute_result"
    }
   ],
   "source": [
    "# 建立二維資料DataFrame\n",
    "# 列索引、欄索引\n",
    "# 字典建立DataFrame，key是DataFrame的column、DataFrame的row是紀錄\n",
    "import pandas as pd\n",
    "\n",
    "# 二維資料\n",
    "dists = {'name':['中正區', '北屯區', '鳳山區'],\n",
    "         'population':[159598, 275207, 359125],\n",
    "         'city':['台北市', '台中市', '高雄市']}\n",
    "\n",
    "# 將二維資料轉成DataFrame\n",
    "df = pd.DataFrame(dists)\n",
    "\n",
    "print(df)\n",
    "\n",
    "# 習慣上輸出DataFrame\n",
    "df\n",
    "\n",
    "# 假設有粉多筆記錄，只想秀出前幾筆\n",
    "df.head(2) #前兩筆 \n",
    "\n",
    "# 排板不是問題\n",
    "df.to_html('20240418.html')\n",
    "\n",
    "# 自訂DataFrame物件的列索引\n",
    "ordinals = ['1st', '2nd', '3rd']\n",
    "df2 = pd.DataFrame(dists, index=ordinals)\n",
    "df2\n",
    "\n",
    "# 自訂欄位順序\n",
    "columns = ['city', 'name', 'population']\n",
    "df3 = pd.DataFrame(dists, columns=columns, index=ordinals) \n",
    "df3\n",
    "\n",
    "# 欄位名字更換\n",
    "df2.columns=columns\n",
    "df2\n",
    "\n",
    "# 存在欄位作為列索引\n",
    "df4 = pd.DataFrame(dists, columns=['name', 'population'], index=dists['city'])\n",
    "df4\n"
   ]
  },
  {
   "cell_type": "markdown",
   "metadata": {},
   "source": [
    "## 如何處理超大型csv檔？  \n",
    "\n",
    "Pandas是需要將資料放到記憶體(in-memory)，才能使用資料的工具。\n",
    "\n",
    "建議記憶體容量是DataFrame大小的3到10倍，以提供足夠空間執行運算。\n",
    "\n",
    "nrows 限制載入的資料量。\n",
    "\n",
    "info()查看佔用的記憶體空間。\n",
    "\n",
    "Pandas會自動補上預設的資料型別。整數資料沒有缺失值的資料型別為int64、數值資料不只有整數，或者有缺失值，則該欄位的資料型別為float64。\n",
    "\n",
    "dtype改變數值欄位的精度，以節省記憶體。\n",
    "\n",
    "describ()檢查新資料集和原始資料集的統計數據，確保精度的修改不會對資料內容造成太大的變動。\n",
    "\n",
    "如果csv文件欄位內容不是數值資料，Pandas會將型別轉換為object，並將值視為字串。字串會佔用大量記憶體，轉換為類別型別(categorial data type)，可以節省記憶體空間。\n",
    "\n",
    "value_count()檢視object型別欄位的相異資料數。如果相異資料數不多，轉換為類別欄位可節省更多記憶體。\n",
    "\n",
    "如果只想載入特定欄位，使用usecols參數指定。\n",
    "\n",
    "如果使用前面方法後，DataFrame依舊佔了過多的記憶體空間。假設適合一次處理一部分資料時，並且不需要在記憶體儲存所有資料，可以使用chunksize參數。\n",
    "\n",
    "memory_usage()查詢DataFrame或Series佔多少位元組(byte)，包括索引需要的記憶體空間。\n",
    "\n",
    "查詢object型別資料佔用的記憶體空間，需將deep參數指定為True，因為字串內容儲存在額外的記憶體中。\n",
    "\n",
    "資料儲存為包含欄位型別資訊的二進位格式，例如Feather格式（Pandas利用pyarrow函式庫）。此格式最佳化資料以in-memory方式在不同程式語言間傳輸，同時無需再型別調整。\n",
    "\n",
    "Parquet格式儲存二進位資料。Feather優化記憶體結構（in-memoey structure）；Parquet優化硬碟中格式（on-disk format）。許多大數據產品使用Parquet。"
   ]
  },
  {
   "cell_type": "code",
   "execution_count": null,
   "metadata": {},
   "outputs": [],
   "source": [
    "diamonds = pd.read_csv('diamonds.csv', nrows=1000) # nrows 限制載入的資料量\n",
    "\n",
    "diamonds"
   ]
  },
  {
   "cell_type": "code",
   "execution_count": null,
   "metadata": {},
   "outputs": [],
   "source": [
    "# info()查看佔用的記憶體空間。\n",
    "\n",
    "diamonds.info()\n",
    "\n",
    "# 1000列資料大約佔78.2KB，如果有10億列就需要78GB的記憶體"
   ]
  },
  {
   "cell_type": "code",
   "execution_count": null,
   "metadata": {},
   "outputs": [],
   "source": [
    "# dtype改變數值欄位的精度(float64=>float32；int64=>int16)，以節省記憶體。\n",
    "import numpy as np\n",
    "diamonds2 = pd.read_csv('diamonds.csv', nrows=1000,\n",
    "                        dtype={'carat': np.float32, 'depth': np.float32,\n",
    "                               'table': np.float32, 'x': np.float32,\n",
    "                               'y': np.float32, 'z': np.float32,\n",
    "                               'price': np.int16})\n",
    "\n",
    "diamonds2.info()\n",
    "\n",
    "# 佔用的記憶體從78.2KB降到49KB左右"
   ]
  },
  {
   "cell_type": "code",
   "execution_count": null,
   "metadata": {},
   "outputs": [],
   "source": [
    "# describ()檢查新資料集和原始資料集的統計數據，確保精度的修改不會對資料內容造成太大的變動。\n",
    "\n",
    "diamonds.describe()"
   ]
  },
  {
   "cell_type": "code",
   "execution_count": null,
   "metadata": {},
   "outputs": [],
   "source": [
    "diamonds2.describe()"
   ]
  },
  {
   "cell_type": "code",
   "execution_count": null,
   "metadata": {},
   "outputs": [],
   "source": [
    "# value_count()檢視object型別欄位的相異資料數\n",
    "diamonds2.cut.value_counts()\n",
    "\n",
    "# cut欄位中僅有5種相異資料"
   ]
  },
  {
   "cell_type": "code",
   "execution_count": null,
   "metadata": {},
   "outputs": [],
   "source": [
    "diamonds2.color.value_counts()\n",
    "\n",
    "# color欄位中有7種相異資料"
   ]
  },
  {
   "cell_type": "code",
   "execution_count": null,
   "metadata": {},
   "outputs": [],
   "source": [
    "diamonds2.clarity.value_counts()\n",
    "\n",
    "# clarity欄位中有8種相異資料"
   ]
  },
  {
   "cell_type": "code",
   "execution_count": null,
   "metadata": {},
   "outputs": [],
   "source": [
    "# obejct型別欄位相異資料數不多，將轉換為類別欄位是明智選擇\n",
    "\n",
    "diamonds3 = pd.read_csv('diamonds.csv', nrows=1000,\n",
    "                        dtype={'carat': np.float32, 'depth': np.float32,\n",
    "                               'table': np.float32, 'x': np.float32,\n",
    "                               'y': np.float32, 'z': np.float32,\n",
    "                               'price': np.int16,\n",
    "                               'cut': 'category', 'color': 'category',\n",
    "                               'clarity': 'category'})\n",
    "\n",
    "diamonds3.info()\n",
    "\n",
    "# 29.4KB佔原來78KB的37%左右"
   ]
  },
  {
   "cell_type": "code",
   "execution_count": null,
   "metadata": {},
   "outputs": [],
   "source": [
    "# 如果只想載入特定欄位，使用usecols參數指定\n",
    "# 建立一個除了x,y,z欄位名稱串列\n",
    "cols = ['carat', 'cut', 'color', 'clarity', 'depth', 'table', 'price']\n",
    "diamonds4 = pd.read_csv('diamonds.csv', nrows=1000,\n",
    "                        dtype={'carat': np.float32, 'depth': np.float32,\n",
    "                               'table': np.float32, 'price': np.int16,\n",
    "                               'cut': 'category', 'color': 'category',\n",
    "                               'clarity': 'category'},\n",
    "                        usecols=cols)\n",
    "\n",
    "diamonds4.info()\n",
    "\n",
    "# 目前使用的記憶體是原始大小的21%左右"
   ]
  },
  {
   "cell_type": "code",
   "execution_count": null,
   "metadata": {},
   "outputs": [],
   "source": [
    "cols = ['carat', 'cut', 'color', 'clarity', 'depth', 'table', 'price']\n",
    "diamonds_iter = pd.read_csv('diamonds.csv', nrows=1000,\n",
    "                            dtype={'carat': np.float32, 'depth': np.float32,\n",
    "                                   'table': np.float32, 'price': np.int16,\n",
    "                                   'cut': 'category', 'color': 'category',\n",
    "                                   'clarity': 'category'},\n",
    "                            usecols=cols,\n",
    "                            chunksize=200) # 一次處理200列的資料\n",
    "\n",
    "def process(df):\n",
    "    return f'processed {df.size} items'\n",
    "\n",
    "for chunk in diamonds_iter: # 分多次處理\n",
    "    process(chunk)"
   ]
  },
  {
   "cell_type": "code",
   "execution_count": null,
   "metadata": {},
   "outputs": [],
   "source": [
    "# 如果把price欄位資料型別設為int8，將會資訊遺失\n",
    "\n",
    "# 列出int8可儲存的資料範圍\n",
    "\n",
    "print(np.iinfo(np.int8))\n",
    "\n",
    "print(diamonds4['price'].min()) # 最小值\n",
    "\n",
    "print(diamonds4['price'].max()) # 最大值\n",
    "\n",
    "# price資料範圍326到2898，超過int8可表示的範圍"
   ]
  },
  {
   "cell_type": "code",
   "execution_count": null,
   "metadata": {},
   "outputs": [],
   "source": [
    "# 如果想知道浮點數型別資訊，使用finfo()\n",
    "\n",
    "np.finfo(np.float16)"
   ]
  },
  {
   "cell_type": "code",
   "execution_count": null,
   "metadata": {},
   "outputs": [],
   "source": [
    "# 原始的price欄位的記憶體佔用空間\n",
    "\n",
    "diamonds.price.memory_usage()"
   ]
  },
  {
   "cell_type": "code",
   "execution_count": null,
   "metadata": {},
   "outputs": [],
   "source": [
    "# 除去索引後，少了28KB\n",
    "\n",
    "diamonds.price.memory_usage(index=False)"
   ]
  },
  {
   "cell_type": "code",
   "execution_count": null,
   "metadata": {},
   "outputs": [],
   "source": [
    "# 查詢object型別資料佔的記憶體空間\n",
    "\n",
    "diamonds.cut.memory_usage(deep=True)"
   ]
  },
  {
   "cell_type": "code",
   "execution_count": null,
   "metadata": {},
   "outputs": [],
   "source": [
    "%pip install pyarrow"
   ]
  },
  {
   "cell_type": "code",
   "execution_count": null,
   "metadata": {},
   "outputs": [],
   "source": [
    "diamonds4.to_feather('d.arr')\n",
    "diamonds5 = pd.read_feather('d.arr') # 使用read_feather讀取Feather格式資料"
   ]
  },
  {
   "cell_type": "code",
   "execution_count": null,
   "metadata": {},
   "outputs": [],
   "source": [
    "diamonds4.to_parquet('d.pqt')"
   ]
  },
  {
   "cell_type": "markdown",
   "metadata": {},
   "source": [
    "即使不知道檔案名稱，我們也可以將資料夾中的特定檔案讀到DataFrame中。\n",
    "\n",
    "gas prices資料夾包含了5 個不同的CSV文件，分別存有2007年起，各種等級天然氣的每週價格。\n",
    "在每個CSV 檔案中只有兩個欄位：當週的起始日期與價格。\n",
    "\n",
    "glob模組中的glob()函式可接受檔案所在的路徑（以字串表示）。\n",
    "若想取得資料夾中的所有CSV 檔案，可使用『*』來完成。\n",
    "在底下範例中，『*.csv』會傳回資料夾中以『.csv』結尾的所有檔案。\n",
    "glob()函式所產生的結果為一串列（存有檔名字串），可以直接傳入read_csv()函式："
   ]
  },
  {
   "cell_type": "code",
   "execution_count": null,
   "metadata": {},
   "outputs": [],
   "source": [
    "import glob\n",
    "df_list = []\n",
    "for filename in glob.glob('gas prices/*.csv'): # 走訪該路徑下，所有CSV 檔案的名稱\n",
    "    df_list.append(pd.read_csv(filename, index_col='Week',\n",
    "                               parse_dates=['Week'])) # 讀入CSV 檔案的資料（會存成DataFrame），並放進df_list 串列中\n",
    "gas = pd.concat(df_list, axis='columns') # 將df_list 中的DataFrame 以水平方式連接\n",
    "gas"
   ]
  }
 ],
 "metadata": {
  "kernelspec": {
   "display_name": "Python 3",
   "language": "python",
   "name": "python3"
  },
  "language_info": {
   "codemirror_mode": {
    "name": "ipython",
    "version": 3
   },
   "file_extension": ".py",
   "mimetype": "text/x-python",
   "name": "python",
   "nbconvert_exporter": "python",
   "pygments_lexer": "ipython3",
   "version": "3.11.3"
  }
 },
 "nbformat": 4,
 "nbformat_minor": 2
}
